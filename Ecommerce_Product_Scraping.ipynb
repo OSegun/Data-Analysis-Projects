{
  "nbformat": 4,
  "nbformat_minor": 0,
  "metadata": {
    "colab": {
      "provenance": [],
      "authorship_tag": "ABX9TyNhnsZhyz4e14Vw6NC2jmei",
      "include_colab_link": true
    },
    "kernelspec": {
      "name": "python3",
      "display_name": "Python 3"
    },
    "language_info": {
      "name": "python"
    }
  },
  "cells": [
    {
      "cell_type": "markdown",
      "metadata": {
        "id": "view-in-github",
        "colab_type": "text"
      },
      "source": [
        "<a href=\"https://colab.research.google.com/github/OSegun/Data-Analysis-Projects/blob/main/Ecommerce_Product_Scraping.ipynb\" target=\"_parent\"><img src=\"https://colab.research.google.com/assets/colab-badge.svg\" alt=\"Open In Colab\"/></a>"
      ]
    },
    {
      "cell_type": "code",
      "execution_count": null,
      "metadata": {
        "id": "4rSLFjObMq01"
      },
      "outputs": [],
      "source": [
        "from bs4 import BeautifulSoup\n",
        "import requests\n",
        "from csv import writer"
      ]
    },
    {
      "cell_type": "code",
      "source": [
        "url = \"https://www.thewhiskyexchange.com/\"\n",
        "\n",
        "header = {\n",
        "    \"User-Agent\" : \"Mozilla/5.0 (X11; Linux x86_64) AppleWebKit/537.36 (KHTML, like Gecko) Chrome/107.0.0.0 Safari/537.36\"\n",
        "}\n",
        "\n",
        "#response = requests.get(\"https://www.thewhiskyexchange.com/search?q=japanese\")\n",
        "#soup = BeautifulSoup(response.content, \"lxml\")"
      ],
      "metadata": {
        "id": "JZ0JbelWMroE"
      },
      "execution_count": null,
      "outputs": []
    },
    {
      "cell_type": "code",
      "source": [
        "whiskylist = []\n",
        "for x in range(1,5):\n",
        "  response = requests.get(f\"https://www.thewhiskyexchange.com/search?q=japanese&pg={x}\")\n",
        "  soup = BeautifulSoup(response.content, \"lxml\")\n",
        "  productlist = soup.find_all(\"li\", class_ = \"product-grid__item\")\n",
        "  for item in productlist:\n",
        "    for link in item.find_all(\"a\", href=True):\n",
        "      whiskylist.append(url + link[\"href\"])\n",
        "with open('winelist.csv', \"w\", encoding=\"utf8\", newline=\"\") as file:\n",
        "  pen = writer(file)\n",
        "  heading = [\"Title\", \"Price\", \"Rating\"]\n",
        "  pen.writerow(heading)\n",
        "  for link in whiskylist:\n",
        "    test = \"https://www.thewhiskyexchange.com/p/23928/nikka-coffey-grain-whisky\"\n",
        "    tresponse = requests.get(link, header)\n",
        "    tsoup = BeautifulSoup(tresponse.content, \"lxml\")\n",
        "    title = tsoup.find(\"h1\", class_ = \"product-main__name\").text.strip().replace(\"\\n\",\"\")\n",
        "    price = tsoup.find(\"p\", class_ = \"product-action__price\").text.strip().replace(\"\\n\",\"\")\n",
        "    try:\n",
        "      rating = tsoup.find(\"span\", class_ = \"review-overview__rating star-rating star-rating--50\").text.strip().replace(\"\\n\",\"\")\n",
        "    except:\n",
        "      rating = \"No Rating\"\n",
        "    winelist = [title, price, rating]\n",
        "    pen.writerow(winelist)\n",
        "    print(winelist)"
      ],
      "metadata": {
        "colab": {
          "base_uri": "https://localhost:8080/"
        },
        "id": "KlUjAYx6UXeK",
        "outputId": "30a8af3b-1e2f-4df5-8cb3-bc147339f836"
      },
      "execution_count": null,
      "outputs": [
        {
          "output_type": "stream",
          "name": "stdout",
          "text": [
            "['Japanese Whisky Tasting Set with Glass2023 Edition 5x3cl', '£43.95', 'No Rating']\n",
            "['The Nikka 12 Year Old', '£199', '5']\n",
            "['Mars Maltage Cosmo', '£55.95', 'No Rating']\n",
            "[\"Hakushu Distiller's Reserve\", '£77.45', 'No Rating']\n",
            "['Nikka Days', '£40.95', '5']\n",
            "['Japanese-Style Jigger 20, 25, 40 & 50ml', '£15.95', '5']\n",
            "['Japanese Gin', '£64.95', '5']\n",
            "['The Japanese Bitters Yuzu', '£28.95', 'No Rating']\n",
            "['Umami Japanese Sake 2018', '£48.95', 'No Rating']\n",
            "['Choya Japanese Umeshu Liqueur', '£19.95', 'No Rating']\n",
            "['The Japanese Bitters Shiso', '£28.95', 'No Rating']\n",
            "['The Japanese Bitters Umami', '£28.95', 'No Rating']\n",
            "['Umami Japanese Sake 2016', '£47.95', 'No Rating']\n",
            "['Origami Japanese Red Sake', '£27.95', 'No Rating']\n",
            "['Taikun Japanese Shochu', '£52.95', 'No Rating']\n",
            "['Ryoma Japanese Rum', '£67.45', 'No Rating']\n",
            "['Fat Samurai Japanese SakeJunmai Ginjo', '£52.95', 'No Rating']\n",
            "['Copper Plated Japanese Jigger 15, 20, 30 & 50ml', '£25.75', 'No Rating']\n",
            "['Method and Madness Japanese Chestnut Cask Finish', '£93.95', 'No Rating']\n",
            "['Method and Madness Japanese Cedarwood Cask Finish', '£93.95', 'No Rating']\n",
            "['Method and Madness Japanese Chestnut & Cedarwood Duo2 Bottles', '£180', 'No Rating']\n",
            "['12 Year Old Scotch and Japanese Whisky Tasting Set With Glass5x3cl', '£49.95', 'No Rating']\n",
            "[\"Ichiro's Malt & GrainJapanese Blended Whisky 2019\", '£2,750', 'No Rating']\n",
            "[\"Ichiro's Malt & GrainJapanese Blended Whisky 2021\", '£2,250', 'No Rating']\n",
            "['Method and Madness 33 Year OldJapanese Mizunara Cask Finish', '£2,950', 'No Rating']\n",
            "['Hibiki Harmony', '£79.95', 'No Rating']\n",
            "['Yamazaki 12 Year Old', '£145', 'No Rating']\n",
            "['Nikka Coffey Grain Whisky', '£58.95', 'No Rating']\n",
            "['Yoichi Single Malt', '£77.75', 'No Rating']\n",
            "['Miyagikyo Single Malt', '£78.45', 'No Rating']\n",
            "['Chichibu 2014 SampleChibidaru Cask Exclusive to The Whisky Exchange', '£19.95', 'No Rating']\n",
            "['Suntory Toki', '£33.95', 'No Rating']\n",
            "['Chichibu 2014 SampleBeer Cask Exclusive to The Whisky Exchange', '£19.95', 'No Rating']\n",
            "['Kaiyo Mizunara Oak Cask Strength', '£110', '5']\n",
            "['Kaiyo Mizunara Oak', '£82.95', '5']\n",
            "['Akashi Single Malt Whisky Sample', '£8.75', '5']\n",
            "['Mars Komatgatake EditionBot.2021', '£145', 'No Rating']\n",
            "['Matsui SakuraKurayoshi Distillery', '£136', 'No Rating']\n",
            "[\"Ichiro's Malt & GrainWorld Blended Whisky 2020 Blue Label\", '£195', '5']\n",
            "['Kaiyo Peated Mizunara Oak', '£99.95', 'No Rating']\n",
            "['Akashi 5 Year OldSherry Cask Half Litre', '£150', '5']\n",
            "['Hatozaki 12 Year Old Umeshu Finish', '£73.75', 'No Rating']\n",
            "['Matsui PeatedKurayoshi Distillery', '£131', 'No Rating']\n",
            "['Matsui MizunaraKurayoshi Distillery', '£134', 'No Rating']\n",
            "['Togouchi Sake Cask', '£64.95', 'No Rating']\n",
            "['Togouchi Pure Malt', '£67.95', 'No Rating']\n",
            "['Yamazaki 12 Year Old Sample', '£11.95', 'No Rating']\n",
            "['Karuizawa 29 Year OldAika Geisha Bourbon Cask #8897', '£27,500', 'No Rating']\n",
            "['Karuizawa 30 Year OldFirst Geisha Bourbon Cask #8606', '£18,000', 'No Rating']\n",
            "['Shirakawa 1958', '£25,000', '5']\n",
            "['Karuizawa 34 Year Old Cask #3668Ruby Geisha', '£28,000', 'No Rating']\n",
            "['Yamazaki MizunaraBot.2011', '£7,500', 'No Rating']\n",
            "['Karuizawa 31 Year OldSapphire Geisha', '£27,500', 'No Rating']\n",
            "[\"Ichiro's Malt & Grain Sample\", '£6.75', 'No Rating']\n",
            "[\"Ichiro's Malt Wine Wood Reserve Sample\", '£9.75', '5']\n",
            "['Karuizawa 38 Year OldPearl Geisha', '£37,500', 'No Rating']\n",
            "['Chichibu London Edition 2018', '£1,000', '5']\n",
            "['Yamazaki Mizunara 18 Year Old2017 Edition', '£10,000', 'No Rating']\n",
            "['Karuizawa 1970Cask 1985', '£30,000', 'No Rating']\n",
            "['Super NikkaRare Old', '£52.75', 'No Rating']\n",
            "['Karuizawa 1984Bot.2014 Sherry Cask #3657', '£15,000', 'No Rating']\n",
            "['Karuizawa 1983Bot.2014 Sherry Cask', '£15,000', '5']\n",
            "['Karuizawa 1981Bot.2014 Sherry Cask', '£15,000', 'No Rating']\n",
            "['Karuizawa 198429 Years Old Sherry Cask #3662', '£15,000', 'No Rating']\n",
            "['Karuizawa 1984Bot.2013 Sherry Cask #3663', '£15,000', '5']\n",
            "['Karuizawa 1981Sherry Cask #6056', '£17,500', 'No Rating']\n",
            "['Suntory Hibiki 12 Year OldHalf Litre', '£675', '5']\n",
            "['Suntory Hibiki 12 Year Old', '£950', 'No Rating']\n",
            "['Karuizawa 1981Cask #103', '£15,000', 'No Rating']\n",
            "['Shizuoka Single Malt Prologue K and Prologue W2x20cl', '£199', 'No Rating']\n",
            "[\"Ichiro's Malt Double Distilleries 2021\", '£299', 'No Rating']\n",
            "['Shizuoka Contact S Single Malt3 Year Old', '£175', 'No Rating']\n",
            "['The House of Suntory Triology Pack3x20cl', '£44.95', 'No Rating']\n",
            "['Nikka Pure Malt Red Sample', '£6.75', 'No Rating']\n",
            "['Nikka Coffey Malt Whisky Sample', '£6.25', 'No Rating']\n",
            "['Nikka Days Sample', '£4.95', '5']\n",
            "['Amahagan Yamazakura Wood Limited Edition Sample', '£7.45', 'No Rating']\n",
            "['Amahagan Edition No 3 SampleMizunara Finish', '£8.75', 'No Rating']\n",
            "['Amahagan Edition No 2 SampleRed Wine Finish', '£7.45', 'No Rating']\n",
            "['Amahagan Edition No 1 SampleBlended Malt Whisky', '£7.25', 'No Rating']\n",
            "['Wine Cask Finished Whisky Tasting Set6x3cl', '£53.95', 'No Rating']\n"
          ]
        }
      ]
    },
    {
      "cell_type": "code",
      "source": [],
      "metadata": {
        "id": "Dpq4hPUqU0EQ"
      },
      "execution_count": null,
      "outputs": []
    }
  ]
}